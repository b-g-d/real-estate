{
 "cells": [
  {
   "cell_type": "code",
   "execution_count": 1,
   "metadata": {
    "collapsed": false
   },
   "outputs": [],
   "source": [
    "import pandas as pd\n",
    "import numpy as np\n",
    "import shapefile as shp\n",
    "import matplotlib.pyplot as plt\n",
    "from shapely.geometry.polygon import LinearRing, Polygon"
   ]
  },
  {
   "cell_type": "code",
   "execution_count": 34,
   "metadata": {
    "collapsed": true
   },
   "outputs": [],
   "source": [
    "path_to_parcels = \"./data/parcels/property.shp\"\n",
    "path_to_subdiv = \"./data/subdivisions/SUBDIVISIONS.shp\"#the thought is that subdivisions have neighborhood maps\n",
    "path_to_roads = \"./data/roads/ISRN_Roads.shp\"\n",
    "path_to_citybounds = \"./data/citybounds/MunicipalBoundaries.shp\"\n",
    "path_to_countybounds = \"./data/countybounds/COUNTYBOUNDARYSHORELINE.shp\"\n",
    "path_to_water = \"./data/water2/wsr.shp\""
   ]
  },
  {
   "cell_type": "code",
   "execution_count": 3,
   "metadata": {
    "collapsed": true
   },
   "outputs": [],
   "source": [
    "# A function that plots a group of polygons based on their index\n",
    "def plotPoly(index_list, file_object, color_choice):\n",
    "    #index_list = DataFrame_of_desired_shapes.index\n",
    "    for index in index_list:\n",
    "        index_shape = file_object.shape(index)\n",
    "        if len(index_shape.parts) > 1:\n",
    "            for i in range(0,len(index_shape.parts)-1):\n",
    "                part_points = index_shape.points[index_shape.parts[i]:index_shape.parts[i+1]]\n",
    "                sub_plot.add_patch(Polygon(part_points, closed = True, color = color_choice))\n",
    "                #plt.plot([x[0] for x in part_points], [x[1] for x in part_points],color = color_choice)\n",
    "        else:\n",
    "            points = index_shape.points\n",
    "            #sub_plot.add_patch(Polygon(points, closed = True, color = color_choice))\n",
    "            plt.plot([x[0] for x in index_shape.points], [x[1] for x in index_shape.points], color = color_choice)\n"
   ]
  },
  {
   "cell_type": "code",
   "execution_count": 4,
   "metadata": {
    "collapsed": false
   },
   "outputs": [],
   "source": [
    "# A function that creates an list of indeces that meet a certain criteria\n",
    "def createDataFrameIndexList(pandas_DataFrame, list_of_criteria_tuples):\n",
    "    x = pandas_DataFrame\n",
    "    try:\n",
    "        for criteria_tuple in list_of_criteria_tuples:\n",
    "            if len(criteria_tuple) < 3:\n",
    "                x = x[x[criteria_tuple[0]] == criteria_tuple[1]]\n",
    "            else:\n",
    "                x = x[(x[criteria_tuple[0]] == criteria_tuple[1]) | (x[criteria_tuple[0]] == criteria_tuple[2])]\n",
    "    except KeyError:\n",
    "        print(\"KeyError: \" + criteria_tuple[0] + \" is not a key\")\n",
    "    if len(x) == 0:\n",
    "        print(\"No records match these criteria\")\n",
    "        return\n",
    "    else:\n",
    "        return x.index\n"
   ]
  },
  {
   "cell_type": "code",
   "execution_count": 15,
   "metadata": {
    "collapsed": true
   },
   "outputs": [],
   "source": [
    "#this uses the shape library to create a properly labeled DataFrame from a shape file's records\n",
    "def createDataFrameFromShpFile(shape_file):\n",
    "    field_names = [x[0] for x in shape_file.fields]\n",
    "    records = pd.DataFrame(shape_file.records())\n",
    "    records.columns = field_names[1:len(field_names)]\n",
    "    return records\n",
    "    "
   ]
  },
  {
   "cell_type": "code",
   "execution_count": 13,
   "metadata": {
    "collapsed": false
   },
   "outputs": [],
   "source": [
    "subdiv_file = shp.Reader(path_to_subdiv)\n",
    "subdiv_shape_rec = subdiv_file.records()"
   ]
  },
  {
   "cell_type": "code",
   "execution_count": 16,
   "metadata": {
    "collapsed": false
   },
   "outputs": [],
   "source": [
    "subdiv_fields = [x[0] for x in subdiv_file.fields]\n",
    "subdiv_fields = subdiv_fields[1:len(subdiv_fields)] #removing deletion flag\n",
    "subdiv_records = pd.DataFrame(subdiv_shape_rec)\n",
    "subdiv_records.columns = subdiv_fields"
   ]
  },
  {
   "cell_type": "code",
   "execution_count": 17,
   "metadata": {
    "collapsed": false
   },
   "outputs": [],
   "source": [
    "#County and City Lines\n",
    "countybounds_file = shp.Reader(path_to_countybounds)\n",
    "citybounds_file = shp.Reader(path_to_citybounds)\n",
    "countybounds_record = createDataFrameFromShpFile(countybounds_file)\n",
    "citybounds_record = createDataFrameFromShpFile(citybounds_file)\n",
    "\n",
    "bunc_county_idx = int(countybounds_record[countybounds_record.NAME == \"BUNCOMBE\"].index[0])\n",
    "bunc_cities_idx = citybounds_record[citybounds_record.CNTY_1 == \"BUNCOMBE\"].index"
   ]
  },
  {
   "cell_type": "code",
   "execution_count": 39,
   "metadata": {
    "collapsed": false
   },
   "outputs": [
    {
     "ename": "TypeError",
     "evalue": "isin() takes 2 positional arguments but 4 were given",
     "output_type": "error",
     "traceback": [
      "\u001b[0;31m---------------------------------------------------------------------------\u001b[0m",
      "\u001b[0;31mTypeError\u001b[0m                                 Traceback (most recent call last)",
      "\u001b[0;32m<ipython-input-39-556520c4f43f>\u001b[0m in \u001b[0;36m<module>\u001b[0;34m()\u001b[0m\n\u001b[1;32m      4\u001b[0m \u001b[0;34m\u001b[0m\u001b[0m\n\u001b[1;32m      5\u001b[0m \u001b[0;31m# the roads of Class 1, 2, or 3 are the big ones\u001b[0m\u001b[0;34m\u001b[0m\u001b[0;34m\u001b[0m\u001b[0m\n\u001b[0;32m----> 6\u001b[0;31m \u001b[0mbunc_big_roads\u001b[0m \u001b[0;34m=\u001b[0m \u001b[0mroad_records\u001b[0m\u001b[0;34m[\u001b[0m\u001b[0;34m(\u001b[0m\u001b[0mroad_records\u001b[0m\u001b[0;34m.\u001b[0m\u001b[0mCounty\u001b[0m \u001b[0;34m==\u001b[0m \u001b[0;34m\"BUNCOMBE\"\u001b[0m\u001b[0;34m)\u001b[0m \u001b[0;34m&\u001b[0m \u001b[0mroad_records\u001b[0m\u001b[0;34m.\u001b[0m\u001b[0mSer_Class\u001b[0m\u001b[0;34m.\u001b[0m\u001b[0misin\u001b[0m\u001b[0;34m(\u001b[0m\u001b[0;36m1\u001b[0m\u001b[0;34m,\u001b[0m\u001b[0;36m2\u001b[0m\u001b[0;34m,\u001b[0m\u001b[0;36m3\u001b[0m\u001b[0;34m)\u001b[0m\u001b[0;34m]\u001b[0m\u001b[0;34m\u001b[0m\u001b[0m\n\u001b[0m\u001b[1;32m      7\u001b[0m \u001b[0mbunc_roads_idx\u001b[0m \u001b[0;34m=\u001b[0m \u001b[0mbunc_big_roads\u001b[0m\u001b[0;34m.\u001b[0m\u001b[0mindex\u001b[0m\u001b[0;34m\u001b[0m\u001b[0m\n",
      "\u001b[0;31mTypeError\u001b[0m: isin() takes 2 positional arguments but 4 were given"
     ]
    }
   ],
   "source": [
    "#Roads \n",
    "road_file = shp.Reader(path_to_roads)\n",
    "road_records = createDataFrameFromShpFile(road_file)\n",
    "\n",
    "# the roads of Class 1, 2, or 3 are the big ones\n",
    "bunc_big_roads = road_records[(road_records.County == \"BUNCOMBE\") & road_records.Ser_Class.isin(1,2,3)]\n",
    "bunc_roads_idx = bunc_big_roads.index"
   ]
  },
  {
   "cell_type": "code",
   "execution_count": 38,
   "metadata": {
    "collapsed": false
   },
   "outputs": [
    {
     "data": {
      "text/plain": [
       "array([4, 5, 3, 8, 2, 1, 7])"
      ]
     },
     "execution_count": 38,
     "metadata": {},
     "output_type": "execute_result"
    }
   ],
   "source": [
    "road_records.Ser_Class.unique()"
   ]
  },
  {
   "cell_type": "code",
   "execution_count": 35,
   "metadata": {
    "collapsed": false
   },
   "outputs": [],
   "source": [
    "# # Water Records\n",
    "# water_file = shp.Reader(path_to_water)\n",
    "# water_records = createDataFrameFromShpFile(water_file)"
   ]
  },
  {
   "cell_type": "code",
   "execution_count": null,
   "metadata": {
    "collapsed": true
   },
   "outputs": [],
   "source": [
    "#Parcels / Property\n",
    "prop_file = shp.Reader(path_to_parcels)\n",
    "prop_record = createDataFrameFromShpFile(prop_file)"
   ]
  },
  {
   "cell_type": "code",
   "execution_count": 274,
   "metadata": {
    "collapsed": false
   },
   "outputs": [],
   "source": [
    "#prop_shps = prop_file.shapes() #TAkes a long time\n"
   ]
  },
  {
   "cell_type": "code",
   "execution_count": 111,
   "metadata": {
    "collapsed": false
   },
   "outputs": [
    {
     "name": "stderr",
     "output_type": "stream",
     "text": [
      "/Library/Frameworks/Python.framework/Versions/3.4/lib/python3.4/site-packages/IPython/kernel/__main__.py:3: SettingWithCopyWarning: \n",
      "A value is trying to be set on a copy of a slice from a DataFrame.\n",
      "Try using .loc[row_indexer,col_indexer] = value instead\n",
      "\n",
      "See the the caveats in the documentation: http://pandas.pydata.org/pandas-docs/stable/indexing.html#indexing-view-versus-copy\n",
      "  app.launch_new_instance()\n"
     ]
    }
   ],
   "source": [
    "# Property class list : http://gis.buncombecounty.org/classcode.htm\n",
    "residential_records = prop_records[prop_records.CLASS == '100'] # 100 is for residential\n",
    "#residential_records['land_acre_value'] = residential_records['LANDVALUE'] / residential_records['ACREAGE']"
   ]
  },
  {
   "cell_type": "code",
   "execution_count": 299,
   "metadata": {
    "collapsed": false
   },
   "outputs": [],
   "source": [
    "residential_records_nonan = residential_records[np.isnan(residential_records.land_acre_value) == False]\n",
    "residential_records_nonan = residential_records_nonan[residential_records_nonan.CITYNAME == \"ASHEVILLE\"]\n",
    "res_index = [int(i) for i in residential_records_nonan.index]"
   ]
  },
  {
   "cell_type": "code",
   "execution_count": 334,
   "metadata": {
    "collapsed": false
   },
   "outputs": [],
   "source": [
    "# 931 Parks\n",
    "# 100 Residential\n",
    "# 822 Water Storage\n",
    "# 320 Undeveloped Farmland\n",
    "# 180 Multiple Residences\n",
    "# 311 Residential Lot\n",
    "# 170 Manufactured Home site\n",
    "# 405 Leasehold/Commercial\n",
    "# 312 Non-Dwelling Improve\n",
    "# 650 Government\n",
    "# 365 Government/Exempt/Vacant\n",
    "\n",
    "water_idx = createDataFrameIndexList(water_records, [(\"BASIN\",\"French Broad-Holston\" )])\n",
    "farmland_idx = createDataFrameIndexList(prop_records, [('CITYNAME',\"ASHEVILLE\"),(\"CLASS\",\"320\")])\n",
    "commercial_idx = createDataFrameIndexList(prop_records, [('CITYNAME',\"ASHEVILLE\"),(\"CLASS\",\"405\")])\n",
    "multires_idx = createDataFrameIndexList(prop_records, [('CITYNAME',\"ASHEVILLE\"),(\"CLASS\",\"180\")])\n",
    "gov_idx = createDataFrameIndexList(prop_records, [('CITYNAME',\"ASHEVILLE\"),(\"CLASS\",\"650\", \"365\")])\n",
    "park_idx = createDataFrameIndexList(prop_records, [('CITYNAME',\"ASHEVILLE\"),(\"CLASS\",\"931\")])\n"
   ]
  },
  {
   "cell_type": "code",
   "execution_count": 335,
   "metadata": {
    "collapsed": false
   },
   "outputs": [],
   "source": [
    "asheville_records = prop_records[prop_records.CITYNAME == \"ASHEVILLE\"]"
   ]
  },
  {
   "cell_type": "code",
   "execution_count": 74,
   "metadata": {
    "collapsed": false
   },
   "outputs": [],
   "source": [
    "#Histogram of acre values\n",
    "logrange = range(6,16,1)\n",
    "regrange = range(0,100000,1000)\n",
    "plt.hist((residential_records_nonan.land_acre_value), bins = regrange, color = 'r')\n",
    "plt.title(\"Histogram of Land Value per Acre in Buncombe County\")\n",
    "plt.ylabel(\"Count\")\n",
    "plt.show()"
   ]
  },
  {
   "cell_type": "code",
   "execution_count": 113,
   "metadata": {
    "collapsed": false
   },
   "outputs": [],
   "source": [
    "################################################################################################################\n",
    "################################################################################################################\n",
    "from matplotlib.collections import PolyCollection\n",
    "from matplotlib.patches import Ellipse, Polygon\n",
    "import matplotlib.colors as colors\n",
    "import matplotlib.cm as cmx # colormap\n",
    "import matplotlib as mpl\n",
    "\n"
   ]
  },
  {
   "cell_type": "code",
   "execution_count": 115,
   "metadata": {
    "collapsed": false
   },
   "outputs": [],
   "source": [
    "minPPA = min(residential_records_nonan.land_acre_value)\n",
    "maxPPA = max(residential_records_nonan.land_acre_value)\n"
   ]
  },
  {
   "cell_type": "code",
   "execution_count": 344,
   "metadata": {
    "collapsed": true
   },
   "outputs": [],
   "source": [
    "fig = plt.figure()\n",
    "sub_plot = fig.add_subplot(111)\n",
    "lonmin, latmin, lonmax, latmax = water_file.bbox # For whole county\n",
    "\n",
    "\n",
    "plotPoly(water_idx, water_file, \"blue\")\n",
    "plt.axis((lonmin, lonmax, latmin, latmax))\n",
    "#plt.title(\"Asheville Residential Land Value Heat Map\")\n",
    "plt.show()"
   ]
  },
  {
   "cell_type": "code",
   "execution_count": 336,
   "metadata": {
    "collapsed": false
   },
   "outputs": [],
   "source": [
    "############# PLOTTING ###############\n",
    "\n",
    "cNorm  = colors.Normalize(vmin=0, vmax= 300000)\n",
    "scalarMap = cmx.ScalarMappable(norm=cNorm, cmap='YlOrRd')\n",
    "bunc_shape = countybounds_file.shape(bunc_county_idx)\n",
    "ashe_shape = citybounds_file.shape(3)\n",
    "#lonmin, latmin, lonmax, latmax = bunc_shape.bbox # For whole county\n",
    "#lonmin, latmin, lonmax, latmax = ashe_shape.bbox # For Asheville\n",
    "lonmin, latmin, lonmax, latmax = 915000, 660000 , 975000, 715000 # just Asheville\n",
    "\n",
    "fig = plt.figure()\n",
    "sub_plot = fig.add_subplot(111)\n",
    "\n",
    "# Adding county lines\n",
    "sub_plot.add_patch(Polygon(bunc_shape.points, closed = True, ec = \"black\", fill = False))\n",
    "\n",
    "# Adding Parks\n",
    "plotPoly(multires_idx, prop_file, \"red\")\n",
    "plotPoly(gov_idx, prop_file, \"gray\")\n",
    "plotPoly(farmland_idx, prop_file, \"#A3FFC2\")\n",
    "plotPoly(water_idx, water_file, \"blue\")\n",
    "\n",
    "\n",
    "## Adding city limits\n",
    "for city_index in bunc_cities_idx: # the Asheville city lines have some problems\n",
    "    city_shape = citybounds_file.shape(city_index)\n",
    "    if len(city_shape.parts) > 1:\n",
    "        for i in range(0,len(city_shape.parts)-1):\n",
    "            part_points = city_shape.points[city_shape.parts[i]:city_shape.parts[i+1]]\n",
    "            plt.plot([x[0] for x in part_points], [x[1] for x in part_points],color = 'green', alpha = .533)\n",
    "    else:\n",
    "        plt.plot([x[0] for x in city_shape.points], [x[1] for x in city_shape.points], color = 'green', alpha = .533)\n",
    "\n",
    "## Adding roads\n",
    "for road_index in bunc_roads_idx:\n",
    "    road_shape = road_file.shape(road_index)\n",
    "    #sub_plot.add_patch(Polygon(road_shape.points, ec = \"blue\", fill = False, closed = False))\n",
    "    plt.plot([x[0] for x in road_shape.points], [x[1] for x in road_shape.points], color = '#bebebe', linewidth = 1.2)\n",
    "\n",
    "# Adding properties \n",
    "for index in res_index[0:1000]:\n",
    "    shape = prop_shps[index]\n",
    "    points = shape.points\n",
    "\n",
    "    #record = prop_records[index,index +1]\n",
    "    ppa = prop_records.LANDVALUE[index] / prop_records.ACREAGE[index]\n",
    "    colorVal = scalarMap.to_rgba(ppa)\n",
    "    sub_plot.add_patch(Polygon(points, closed = True, color = colorVal))\n",
    "\n",
    "plt.figtext((lonmax - (lonmax - lonmin)/ 2), (latmax - (latmax-latmin)/2), \"ASheville\", color ='black',size = 1000)\n",
    "    \n",
    "    \n",
    "sub_plot.xaxis.set_visible(False)\n",
    "sub_plot.yaxis.set_visible(False)\n",
    "plt.axis((lonmin, lonmax, latmin, latmax))\n",
    "plt.title(\"Asheville Residential Land Value Heat Map\")\n",
    "plt.show()\n",
    "   "
   ]
  },
  {
   "cell_type": "code",
   "execution_count": 246,
   "metadata": {
    "collapsed": false
   },
   "outputs": [
    {
     "data": {
      "text/plain": [
       "945000.0"
      ]
     },
     "execution_count": 246,
     "metadata": {},
     "output_type": "execute_result"
    }
   ],
   "source": [
    "(lonmax - (lonmax - lonmin)/ 2)"
   ]
  },
  {
   "cell_type": "code",
   "execution_count": 298,
   "metadata": {
    "collapsed": false
   },
   "outputs": [],
   "source": [
    "biggie = residential_records_nonan[residential_records_nonan.land_acre_value ==residential_records_nonan.land_acre_value.max()]"
   ]
  },
  {
   "cell_type": "code",
   "execution_count": 302,
   "metadata": {
    "collapsed": false
   },
   "outputs": [
    {
     "data": {
      "text/plain": [
       "72179    85 WALKER TOWN RD BLACK MOUNTAIN\n",
       "dtype: object"
      ]
     },
     "execution_count": 302,
     "metadata": {},
     "output_type": "execute_result"
    }
   ],
   "source": [
    "biggie.ADDRESS +\" \" + biggie.CITYNAME"
   ]
  },
  {
   "cell_type": "code",
   "execution_count": 320,
   "metadata": {
    "collapsed": false
   },
   "outputs": [
    {
     "name": "stderr",
     "output_type": "stream",
     "text": [
      "/Library/Frameworks/Python.framework/Versions/3.4/lib/python3.4/site-packages/pandas/core/indexing.py:407: SettingWithCopyWarning: \n",
      "A value is trying to be set on a copy of a slice from a DataFrame.\n",
      "Try using .loc[row_indexer,col_indexer] = value instead\n",
      "\n",
      "See the the caveats in the documentation: http://pandas.pydata.org/pandas-docs/stable/indexing.html#indexing-view-versus-copy\n",
      "  self.obj[item] = s\n"
     ]
    }
   ],
   "source": [
    "residential_records.loc[:,'land_acre_value'] = residential_records['LANDVALUE'] / residential_records['ACREAGE']\n",
    "\n",
    "#residential_records.loc[:,'PIN']\n",
    "#res_rec_nonan = residential_records[-np.isnan(residential_records.land_acrevalue)] # these don't have correct entries to calculate acre value"
   ]
  },
  {
   "cell_type": "code",
   "execution_count": 97,
   "metadata": {
    "collapsed": true
   },
   "outputs": [],
   "source": [
    "katy_PIN = '9638915756'\n",
    "katy_house = records_df[records_df.PIN == katy_PIN]"
   ]
  },
  {
   "cell_type": "code",
   "execution_count": 136,
   "metadata": {
    "collapsed": false
   },
   "outputs": [
    {
     "data": {
      "text/plain": [
       "24031    R4ED\n",
       "Name: NEIGHBORHO, dtype: object"
      ]
     },
     "execution_count": 136,
     "metadata": {},
     "output_type": "execute_result"
    }
   ],
   "source": [
    "katy_house.NEIGHBORHO"
   ]
  },
  {
   "cell_type": "code",
   "execution_count": 14,
   "metadata": {
    "collapsed": false
   },
   "outputs": [],
   "source": [
    "#residential_records.NEIGHBORHO.value_counts()\n",
    "\n"
   ]
  },
  {
   "cell_type": "code",
   "execution_count": 39,
   "metadata": {
    "collapsed": false
   },
   "outputs": [],
   "source": [
    "idx_priced = fields.index(\"PRICED\")\n",
    "idx_tmark = fields.index(\"TOTALMARKE\")\n",
    "idx_appval = fields.index(\"APPRAISEDV\")\n",
    "idx_taxval = fields.index(\"TAXVALUE\")"
   ]
  },
  {
   "cell_type": "code",
   "execution_count": 64,
   "metadata": {
    "collapsed": false
   },
   "outputs": [
    {
     "data": {
      "text/plain": [
       "Int64Index([ 0,  1,  2,  3,  4,  5,  6,  7,  8,  9, 10, 11, 12, 13, 14, 15, 16,\n",
       "            17, 18, 19, 20, 21, 22, 23, 24, 25, 26, 27, 28, 29, 30, 31, 32, 33,\n",
       "            34, 35, 36, 37, 38, 39, 40, 41, 42, 43, 44, 45, 46, 47, 48, 49, 50,\n",
       "            51, 52, 53, 54, 55],\n",
       "           dtype='int64')"
      ]
     },
     "execution_count": 64,
     "metadata": {},
     "output_type": "execute_result"
    }
   ],
   "source": []
  },
  {
   "cell_type": "code",
   "execution_count": 74,
   "metadata": {
    "collapsed": false
   },
   "outputs": [
    {
     "data": {
      "text/plain": [
       "'PIN'"
      ]
     },
     "execution_count": 74,
     "metadata": {},
     "output_type": "execute_result"
    }
   ],
   "source": [
    "fields.pop(0)"
   ]
  },
  {
   "cell_type": "code",
   "execution_count": 75,
   "metadata": {
    "collapsed": false
   },
   "outputs": [
    {
     "data": {
      "text/plain": [
       "['PINEXT',\n",
       " 'OWNER',\n",
       " 'NMPTYPE',\n",
       " 'TAXYEAR',\n",
       " 'CONDOUNIT',\n",
       " 'CONDOBUILD',\n",
       " 'DEEDBOOK',\n",
       " 'DEEDPAGE',\n",
       " 'PLATBOOK',\n",
       " 'PLATPAGE',\n",
       " 'SUBNAME',\n",
       " 'SUBLOT',\n",
       " 'SUBBLOCK',\n",
       " 'SUBSECT',\n",
       " 'UPDATEDATE',\n",
       " 'HOUSENUMBE',\n",
       " 'NUMBERSUFF',\n",
       " 'DIRECTION',\n",
       " 'STREETNAME',\n",
       " 'STREETTYPE',\n",
       " 'TOWNSHIP',\n",
       " 'ACREAGE',\n",
       " 'ACCOUNTNUM',\n",
       " 'DEEDDATE',\n",
       " 'STAMPS',\n",
       " 'INSTRUMENT',\n",
       " 'REASON',\n",
       " 'COUNTY',\n",
       " 'CITY',\n",
       " 'FIREDISTRI',\n",
       " 'SCHOOLDIST',\n",
       " 'CAREOF',\n",
       " 'ADDRESS',\n",
       " 'CITYNAME',\n",
       " 'STATE',\n",
       " 'ZIPCODE',\n",
       " 'CLASS',\n",
       " 'IMPROVED',\n",
       " 'EXEMPT',\n",
       " 'PRICED',\n",
       " 'TOTALMARKE',\n",
       " 'APPRAISEDV',\n",
       " 'TAXVALUE',\n",
       " 'LANDUSE',\n",
       " 'NEIGHBORHO',\n",
       " 'LANDVALUE',\n",
       " 'BUILDINGVA',\n",
       " 'IMPROVEMEN',\n",
       " 'APPRAISALA',\n",
       " 'STATE_ROUT',\n",
       " 'STATE_RO_1',\n",
       " 'PROPCARD',\n",
       " 'Shape_area',\n",
       " 'Shape_len']"
      ]
     },
     "execution_count": 75,
     "metadata": {},
     "output_type": "execute_result"
    }
   ],
   "source": [
    "fields"
   ]
  },
  {
   "cell_type": "code",
   "execution_count": 41,
   "metadata": {
    "collapsed": false
   },
   "outputs": [],
   "source": [
    "shapeRec = prop_file.shapeRecord(500)\n"
   ]
  },
  {
   "cell_type": "code",
   "execution_count": 42,
   "metadata": {
    "collapsed": false
   },
   "outputs": [
    {
     "data": {
      "text/plain": [
       "1438900"
      ]
     },
     "execution_count": 42,
     "metadata": {},
     "output_type": "execute_result"
    }
   ],
   "source": [
    "shapeRec.record[idx_priced]"
   ]
  },
  {
   "cell_type": "code",
   "execution_count": 43,
   "metadata": {
    "collapsed": false
   },
   "outputs": [
    {
     "data": {
      "text/plain": [
       "1438900"
      ]
     },
     "execution_count": 43,
     "metadata": {},
     "output_type": "execute_result"
    }
   ],
   "source": [
    "shapeRec.record[idx_tmark]"
   ]
  },
  {
   "cell_type": "code",
   "execution_count": 38,
   "metadata": {
    "collapsed": false
   },
   "outputs": [
    {
     "data": {
      "text/plain": [
       "1438900"
      ]
     },
     "execution_count": 38,
     "metadata": {},
     "output_type": "execute_result"
    }
   ],
   "source": [
    "shapeRec.record[idx_appval]"
   ]
  },
  {
   "cell_type": "code",
   "execution_count": 11,
   "metadata": {
    "collapsed": false
   },
   "outputs": [],
   "source": [
    "points = shapeRec.shape.points\n"
   ]
  },
  {
   "cell_type": "code",
   "execution_count": 28,
   "metadata": {
    "collapsed": false
   },
   "outputs": [],
   "source": [
    "poly = Polygon(points)"
   ]
  },
  {
   "cell_type": "code",
   "execution_count": 29,
   "metadata": {
    "collapsed": false
   },
   "outputs": [
    {
     "data": {
      "text/plain": [
       "[('DeletionFlag', 'C', 1, 0),\n",
       " ['PINNUM', 'C', 50, 0],\n",
       " ['PIN', 'C', 15, 0],\n",
       " ['PINEXT', 'C', 50, 0],\n",
       " ['OWNER', 'C', 50, 0],\n",
       " ['NMPTYPE', 'N', 10, 0],\n",
       " ['TAXYEAR', 'C', 50, 0],\n",
       " ['CONDOUNIT', 'C', 50, 0],\n",
       " ['CONDOBUILD', 'C', 50, 0],\n",
       " ['DEEDBOOK', 'C', 50, 0],\n",
       " ['DEEDPAGE', 'C', 50, 0],\n",
       " ['PLATBOOK', 'C', 50, 0],\n",
       " ['PLATPAGE', 'C', 50, 0],\n",
       " ['SUBNAME', 'C', 50, 0],\n",
       " ['SUBLOT', 'C', 50, 0],\n",
       " ['SUBBLOCK', 'C', 50, 0],\n",
       " ['SUBSECT', 'C', 50, 0],\n",
       " ['UPDATEDATE', 'C', 50, 0],\n",
       " ['HOUSENUMBE', 'C', 50, 0],\n",
       " ['NUMBERSUFF', 'C', 50, 0],\n",
       " ['DIRECTION', 'C', 50, 0],\n",
       " ['STREETNAME', 'C', 50, 0],\n",
       " ['STREETTYPE', 'C', 50, 0],\n",
       " ['TOWNSHIP', 'C', 50, 0],\n",
       " ['ACREAGE', 'N', 19, 8],\n",
       " ['ACCOUNTNUM', 'C', 50, 0],\n",
       " ['DEEDDATE', 'C', 50, 0],\n",
       " ['STAMPS', 'N', 19, 8],\n",
       " ['INSTRUMENT', 'C', 50, 0],\n",
       " ['REASON', 'C', 50, 0],\n",
       " ['COUNTY', 'C', 50, 0],\n",
       " ['CITY', 'C', 50, 0],\n",
       " ['FIREDISTRI', 'C', 50, 0],\n",
       " ['SCHOOLDIST', 'C', 50, 0],\n",
       " ['CAREOF', 'C', 50, 0],\n",
       " ['ADDRESS', 'C', 50, 0],\n",
       " ['CITYNAME', 'C', 50, 0],\n",
       " ['STATE', 'C', 50, 0],\n",
       " ['ZIPCODE', 'C', 50, 0],\n",
       " ['CLASS', 'C', 50, 0],\n",
       " ['IMPROVED', 'C', 50, 0],\n",
       " ['EXEMPT', 'C', 50, 0],\n",
       " ['PRICED', 'C', 50, 0],\n",
       " ['TOTALMARKE', 'N', 10, 0],\n",
       " ['APPRAISEDV', 'N', 10, 0],\n",
       " ['TAXVALUE', 'N', 10, 0],\n",
       " ['LANDUSE', 'C', 50, 0],\n",
       " ['NEIGHBORHO', 'C', 50, 0],\n",
       " ['LANDVALUE', 'N', 10, 0],\n",
       " ['BUILDINGVA', 'N', 10, 0],\n",
       " ['IMPROVEMEN', 'N', 10, 0],\n",
       " ['APPRAISALA', 'C', 50, 0],\n",
       " ['STATE_ROUT', 'C', 50, 0],\n",
       " ['STATE_RO_1', 'C', 50, 0],\n",
       " ['PROPCARD', 'C', 150, 0],\n",
       " ['Shape_area', 'F', 19, 11],\n",
       " ['Shape_len', 'F', 19, 11]]"
      ]
     },
     "execution_count": 29,
     "metadata": {},
     "output_type": "execute_result"
    }
   ],
   "source": [
    "fields"
   ]
  },
  {
   "cell_type": "code",
   "execution_count": 50,
   "metadata": {
    "collapsed": false
   },
   "outputs": [
    {
     "name": "stdout",
     "output_type": "stream",
     "text": [
      "hello\n",
      "hello\n",
      "hello\n",
      "hello\n",
      "hello\n",
      "hello\n",
      "hello\n",
      "hello\n",
      "hello\n",
      "hello\n",
      "hello\n",
      "hello\n",
      "hello\n",
      "hello\n",
      "hello\n",
      "hello\n",
      "hello\n",
      "hello\n",
      "hello\n",
      "hello\n",
      "hello\n",
      "hello\n",
      "hello\n",
      "hello\n",
      "hello\n",
      "hello\n",
      "hello\n",
      "hello\n",
      "hello\n",
      "hello\n",
      "hello\n",
      "hello\n",
      "hello\n",
      "hello\n",
      "hello\n",
      "hello\n",
      "hello\n",
      "hello\n",
      "hello\n",
      "hello\n",
      "hello\n",
      "hello\n",
      "hello\n",
      "hello\n",
      "hello\n",
      "hello\n",
      "hello\n",
      "hello\n",
      "hello\n",
      "hello\n",
      "hello\n",
      "hello\n",
      "hello\n",
      "hello\n",
      "hello\n",
      "hello\n",
      "hello\n"
     ]
    }
   ],
   "source": [
    "for idx, item in enumerate(fields):\n",
    "    x = 0\n",
    "    try:\n",
    "        item.index['ACREAGE']\n",
    "    except TypeError:\n",
    "        x = 0\n",
    "    if x == 1:\n",
    "        print(idx)"
   ]
  },
  {
   "cell_type": "code",
   "execution_count": 45,
   "metadata": {
    "collapsed": false
   },
   "outputs": [
    {
     "ename": "ValueError",
     "evalue": "'lkas' is not in list",
     "output_type": "error",
     "traceback": [
      "\u001b[0;31m---------------------------------------------------------------------------\u001b[0m",
      "\u001b[0;31mValueError\u001b[0m                                Traceback (most recent call last)",
      "\u001b[0;32m<ipython-input-45-af2a444cc8be>\u001b[0m in \u001b[0;36m<module>\u001b[0;34m()\u001b[0m\n\u001b[0;32m----> 1\u001b[0;31m \u001b[0mitem\u001b[0m\u001b[0;34m.\u001b[0m\u001b[0mindex\u001b[0m\u001b[0;34m(\u001b[0m\u001b[0;34m\"lkas\"\u001b[0m\u001b[0;34m)\u001b[0m\u001b[0;34m\u001b[0m\u001b[0m\n\u001b[0m",
      "\u001b[0;31mValueError\u001b[0m: 'lkas' is not in list"
     ]
    }
   ],
   "source": []
  },
  {
   "cell_type": "code",
   "execution_count": 15,
   "metadata": {
    "collapsed": true
   },
   "outputs": [],
   "source": [
    "fig = pyplot.figure()\n",
    "ax = fig.add_subplot(111)\n"
   ]
  },
  {
   "cell_type": "code",
   "execution_count": 19,
   "metadata": {
    "collapsed": false
   },
   "outputs": [
    {
     "data": {
      "text/plain": [
       "[]"
      ]
     },
     "execution_count": 19,
     "metadata": {},
     "output_type": "execute_result"
    }
   ],
   "source": [
    "ax.plot()"
   ]
  },
  {
   "cell_type": "code",
   "execution_count": null,
   "metadata": {
    "collapsed": true
   },
   "outputs": [],
   "source": []
  }
 ],
 "metadata": {
  "kernelspec": {
   "display_name": "Python 3",
   "language": "python",
   "name": "python3"
  },
  "language_info": {
   "codemirror_mode": {
    "name": "ipython",
    "version": 3
   },
   "file_extension": ".py",
   "mimetype": "text/x-python",
   "name": "python",
   "nbconvert_exporter": "python",
   "pygments_lexer": "ipython3",
   "version": "3.4.3"
  }
 },
 "nbformat": 4,
 "nbformat_minor": 0
}
